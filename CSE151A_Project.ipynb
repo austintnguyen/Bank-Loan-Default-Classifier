{
  "nbformat": 4,
  "nbformat_minor": 0,
  "metadata": {
    "colab": {
      "provenance": [],
      "include_colab_link": true
    },
    "kernelspec": {
      "name": "python3",
      "display_name": "Python 3"
    },
    "language_info": {
      "name": "python"
    }
  },
  "cells": [
    {
      "cell_type": "markdown",
      "metadata": {
        "id": "view-in-github",
        "colab_type": "text"
      },
      "source": [
        "<a href=\"https://colab.research.google.com/github/austintnguyen/CSE151A_Project/blob/main/CSE151A_Project.ipynb\" target=\"_parent\"><img src=\"https://colab.research.google.com/assets/colab-badge.svg\" alt=\"Open In Colab\"/></a>"
      ]
    },
    {
      "cell_type": "code",
      "execution_count": null,
      "metadata": {
        "id": "Akd8dzCWLNq1"
      },
      "outputs": [],
      "source": [
        "# TEST"
      ]
    },
    {
      "cell_type": "code",
      "source": [
        "# test 2"
      ],
      "metadata": {
        "id": "FpuCm9o7MFEc"
      },
      "execution_count": null,
      "outputs": []
    },
    {
      "cell_type": "code",
      "source": [
        "# test_3"
      ],
      "metadata": {
        "id": "vsjUOOBcMY-O"
      },
      "execution_count": null,
      "outputs": []
    },
    {
      "cell_type": "code",
      "source": [
        "#test4"
      ],
      "metadata": {
        "id": "_MVmEwJVMtfX"
      },
      "execution_count": null,
      "outputs": []
    }
  ]
}